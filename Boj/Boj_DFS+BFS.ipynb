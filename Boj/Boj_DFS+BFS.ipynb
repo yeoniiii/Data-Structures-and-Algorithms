{
 "cells": [
  {
   "cell_type": "markdown",
   "metadata": {},
   "source": [
    "# `DFS` 깊이 우선 탐색"
   ]
  },
  {
   "cell_type": "markdown",
   "metadata": {},
   "source": [
    "## 24479. 알고리즘 수업 - 깊이 우선 탐색1"
   ]
  },
  {
   "cell_type": "markdown",
   "metadata": {},
   "source": [
    "오늘도 서준이는 깊이 우선 탐색(DFS) 수업 조교를 하고 있다. 아빠가 수업한 내용을 학생들이 잘 이해했는지 문제를 통해서 확인해보자.\n",
    "\n",
    "N개의 정점과 M개의 간선으로 구성된 무방향 그래프(undirected graph)가 주어진다. 정점 번호는 1번부터 N번이고 모든 간선의 가중치는 1이다. 정점 R에서 시작하여 깊이 우선 탐색으로 노드를 방문할 경우 노드의 방문 순서를 출력하자.\n",
    "\n",
    "깊이 우선 탐색 의사 코드는 다음과 같다. 인접 정점은 오름차순으로 방문한다."
   ]
  },
  {
   "cell_type": "code",
   "execution_count": null,
   "metadata": {},
   "outputs": [],
   "source": [
    "import sys\n",
    "input = lambda: sys.stdin.readline().rstrip()\n",
    "sys.setrecursionlimit(10**6)\n",
    "\n",
    "N, M, R = map(int, input().split())\n",
    "graph = [[] for _ in range(N+1)]\n",
    "\n",
    "for i in range(M):\n",
    "    u, v = map(int, input().split())\n",
    "    graph[u].append(v)\n",
    "    graph[v].append(u)\n",
    "\n",
    "visited = [0] * (N+1)\n",
    "cnt = 0\n",
    "num = [0] * (N+1)\n",
    "\n",
    "def dfs(graph, v, visited):\n",
    "    global cnt\n",
    "    visited[v] = 1\n",
    "    cnt += 1\n",
    "    num[v] = cnt\n",
    "    for i in sorted(graph[v]):\n",
    "        if visited[i] == 0:\n",
    "            dfs(graph, i, visited)\n",
    "\n",
    "dfs(graph, R, visited)\n",
    "print('\\n'.join(map(str, num[1:])))"
   ]
  },
  {
   "cell_type": "markdown",
   "metadata": {},
   "source": [
    "## 2606. 바이러스"
   ]
  },
  {
   "cell_type": "markdown",
   "metadata": {},
   "source": [
    "신종 바이러스인 웜 바이러스는 네트워크를 통해 전파된다. 한 컴퓨터가 웜 바이러스에 걸리면 그 컴퓨터와 네트워크 상에서 연결되어 있는 모든 컴퓨터는 웜 바이러스에 걸리게 된다.\n",
    "\n",
    "예를 들어 7대의 컴퓨터가 <그림 1>과 같이 네트워크 상에서 연결되어 있다고 하자. 1번 컴퓨터가 웜 바이러스에 걸리면 웜 바이러스는 2번과 5번 컴퓨터를 거쳐 3번과 6번 컴퓨터까지 전파되어 2, 3, 5, 6 네 대의 컴퓨터는 웜 바이러스에 걸리게 된다. 하지만 4번과 7번 컴퓨터는 1번 컴퓨터와 네트워크상에서 연결되어 있지 않기 때문에 영향을 받지 않는다.\n",
    "\n",
    "\n",
    "\n",
    "어느 날 1번 컴퓨터가 웜 바이러스에 걸렸다. 컴퓨터의 수와 네트워크 상에서 서로 연결되어 있는 정보가 주어질 때, 1번 컴퓨터를 통해 웜 바이러스에 걸리게 되는 컴퓨터의 수를 출력하는 프로그램을 작성하시오."
   ]
  },
  {
   "cell_type": "code",
   "execution_count": null,
   "metadata": {},
   "outputs": [],
   "source": [
    "N = int(input())\n",
    "M = int(input())\n",
    "arr = []\n",
    "\n",
    "for i in range(M):\n",
    "    arr.append(list(map(int, input().split())))\n",
    "    \n",
    "visited = [0] * (N+1)\n",
    "\n",
    "def dfsVirus(arr, v, visited):\n",
    "    visited[v] = 1\n",
    "    if sum(visited) >= N: # 종료 조건 명시\n",
    "        return False\n",
    "    for i in range(len(arr)):\n",
    "        if v in arr[i]:\n",
    "            v = arr[i][1 - arr[i].index(v)] # 1이면 0, 0이면 1\n",
    "            if visited[v] == 0: # 방문하지 않았으면\n",
    "                dfsVirus(arr, v, visited)\n",
    "\n",
    "dfsVirus(arr, 1, visited)\n",
    "print(sum(visited) - 1)"
   ]
  },
  {
   "cell_type": "markdown",
   "metadata": {},
   "source": [
    "## 11725. 트리의 부모 찾기"
   ]
  },
  {
   "cell_type": "markdown",
   "metadata": {},
   "source": [
    "루트 없는 트리가 주어진다. 이때, 트리의 루트를 1이라고 정했을 때, 각 노드의 부모를 구하는 프로그램을 작성하시오."
   ]
  },
  {
   "cell_type": "code",
   "execution_count": null,
   "metadata": {},
   "outputs": [],
   "source": [
    "import sys\n",
    "input = lambda: sys.stdin.readline().rstrip()\n",
    "sys.setrecursionlimit(10**6)\n",
    "\n",
    "N = int(input())\n",
    "tree = [[] for i in range(N+1)]\n",
    "parents = [0] * (N+1)\n",
    "visited = [0] * (N+1)\n",
    "\n",
    "for i in range(N-1):\n",
    "    u, v = map(int, input().split())\n",
    "    tree[u].append(v)\n",
    "    tree[v].append(u)\n",
    "    \n",
    "def dfsTree(tree, v, visited):\n",
    "    visited[v] = 1\n",
    "    for i in tree[v]:\n",
    "        if visited[i] == 0:\n",
    "            parents[i] = v\n",
    "            dfsTree(tree, i, visited)\n",
    "\n",
    "dfsTree(tree, 1, visited)\n",
    "print('\\n'.join(map(str, parents[2:])))"
   ]
  },
  {
   "cell_type": "markdown",
   "metadata": {},
   "source": [
    "# `BFS` 너비 우선 탐색"
   ]
  },
  {
   "cell_type": "markdown",
   "metadata": {},
   "source": [
    "## 24444. 알고리즘 수업 - 너비 우선 탐색1"
   ]
  },
  {
   "cell_type": "markdown",
   "metadata": {},
   "source": [
    "오늘도 서준이는 너비 우선 탐색(BFS) 수업 조교를 하고 있다. 아빠가 수업한 내용을 학생들이 잘 이해했는지 문제를 통해서 확인해보자.\n",
    "\n",
    "N개의 정점과 M개의 간선으로 구성된 무방향 그래프(undirected graph)가 주어진다. 정점 번호는 1번부터 N번이고 모든 간선의 가중치는 1이다. 정점 R에서 시작하여 너비 우선 탐색으로 노드를 방문할 경우 노드의 방문 순서를 출력하자.\n",
    "\n",
    "너비 우선 탐색 의사 코드는 다음과 같다. 인접 정점은 오름차순으로 방문한다."
   ]
  },
  {
   "cell_type": "code",
   "execution_count": null,
   "metadata": {},
   "outputs": [],
   "source": [
    "import sys\n",
    "input = lambda: sys.stdin.readline().rstrip()\n",
    "from collections import deque\n",
    "\n",
    "N, M, R = map(int, input().split())\n",
    "graph = [[] for i in range(N+1)]\n",
    "\n",
    "for i in range(M):\n",
    "    u, v = map(int, input().split())\n",
    "    graph[u].append(v)\n",
    "    graph[v].append(u)\n",
    "\n",
    "visited = [0] * (N+1)\n",
    "cnt = 0\n",
    "num = [0] * (N+1)\n",
    "\n",
    "def bfs(graph, start, visited):\n",
    "    global cnt\n",
    "    q = deque([start])\n",
    "    cnt += 1\n",
    "    num[start] = cnt\n",
    "    visited[start] = 1\n",
    "    while q:\n",
    "        v = q.popleft()\n",
    "        for i in sorted(graph[v]):\n",
    "            if visited[i] == 0:\n",
    "                q.append(i)\n",
    "                cnt += 1\n",
    "                num[i] = cnt\n",
    "                visited[i] = 1\n",
    "        \n",
    "bfs(graph, R, visited)\n",
    "print('\\n'.join(map(str, num[1:])))"
   ]
  },
  {
   "cell_type": "markdown",
   "metadata": {},
   "source": [
    "## 21736. 헌내기는 친구가 필요해"
   ]
  },
  {
   "cell_type": "markdown",
   "metadata": {},
   "source": [
    "2020년에 입학한 헌내기 도연이가 있다. 도연이는 비대면 수업 때문에 학교에 가지 못해 학교에 아는 친구가 없었다. 드디어 대면 수업을 하게 된 도연이는 어서 캠퍼스 내의 사람들과 친해지고 싶다. \n",
    "\n",
    "도연이가 다니는 대학의 캠퍼스는 $N \\times M$ 크기이며 캠퍼스에서 이동하는 방법은 벽이 아닌 상하좌우로 이동하는 것이다. 예를 들어, 도연이가 ($x$, $y$)에 있다면 이동할 수 있는 곳은 ($x+1$, $y$), ($x$, $y+1$), ($x-1$, $y$), ($x$, $y-1$)이다. 단, 캠퍼스의 밖으로 이동할 수는 없다.\n",
    "\n",
    "불쌍한 도연이를 위하여 캠퍼스에서 도연이가 만날 수 있는 사람의 수를 출력하는 프로그램을 작성해보자."
   ]
  },
  {
   "cell_type": "code",
   "execution_count": null,
   "metadata": {},
   "outputs": [],
   "source": [
    "import sys\n",
    "input = lambda: sys.stdin.readline().rstrip()\n",
    "from collections import deque\n",
    "\n",
    "N, M = map(int, input().split())\n",
    "graph = []\n",
    "\n",
    "for i in range(N):\n",
    "    graph.append(list(input()))\n",
    "\n",
    "for i in range(N):\n",
    "    if 'I' in graph[i]:\n",
    "        j = graph[i].index('I')\n",
    "        break\n",
    "\n",
    "dx = [1, 0, -1, 0]\n",
    "dy = [0, 1, 0, -1]\n",
    "\n",
    "\n",
    "cnt = 0\n",
    "q = deque()\n",
    "q.append((i, j))\n",
    "while q:\n",
    "    x, y = q.popleft()\n",
    "    for i in range(4):\n",
    "        nx = x + dx[i]\n",
    "        ny = y + dy[i]\n",
    "\n",
    "        if nx < 0 or nx >= N or ny < 0 or ny >= M:\n",
    "            continue\n",
    "        if graph[nx][ny] == 'X':\n",
    "            continue\n",
    "        if graph[nx][ny] in ['O', 'P']:\n",
    "            if graph[nx][ny] == 'P':\n",
    "                cnt += 1\n",
    "            graph[nx][ny] = 'X'\n",
    "            q.append((nx, ny))\n",
    "if cnt > 0:\n",
    "    print(cnt)\n",
    "else:\n",
    "    print('TT')"
   ]
  }
 ],
 "metadata": {
  "kernelspec": {
   "display_name": "Python 3.9.15",
   "language": "python",
   "name": "python3"
  },
  "language_info": {
   "name": "python",
   "version": "3.9.15"
  },
  "orig_nbformat": 4,
  "vscode": {
   "interpreter": {
    "hash": "19cdb573a42401074e38f706383cbfa1833acb696c2188dc3609525a6f268ee1"
   }
  }
 },
 "nbformat": 4,
 "nbformat_minor": 2
}
