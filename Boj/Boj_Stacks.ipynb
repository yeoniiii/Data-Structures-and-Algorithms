{
 "cells": [
  {
   "cell_type": "markdown",
   "metadata": {},
   "source": [
    "# 10828. 스택\n",
    "정수를 저장하는 스택을 구현한 다음, 입력으로 주어지는 명령을 처리하는 프로그램을 작성하시오.\n",
    "명령은 총 다섯 가지이다.\n",
    "- push X: 정수 X를 스택에 넣는 연산이다.\n",
    "- pop: 스택에서 가장 위에 있는 정수를 빼고, 그 수를 출력한다. 만약 스택에 들어있는 정수가 없는 경우에는 -1을 출력한다.\n",
    "- size: 스택에 들어있는 정수의 개수를 출력한다.\n",
    "- empty: 스택이 비어있으면 1, 아니면 0을 출력한다.\n",
    "- top: 스택의 가장 위에 있는 정수를 출력한다. 만약 스택에 들어있는 정수가 없는 경우에는 -1을 출력한다."
   ]
  },
  {
   "cell_type": "code",
   "execution_count": null,
   "metadata": {},
   "outputs": [],
   "source": [
    "import sys\n",
    "input = lambda: sys.stdin.readline().rstrip()\n",
    "N = int(input())\n",
    "S = []\n",
    "\n",
    "for _ in range(N):\n",
    "    op = input()\n",
    "    if op == 'pop':\n",
    "        if len(S) > 0: print(S.pop())\n",
    "        else: print(-1)\n",
    "    elif op == 'size':\n",
    "        print(len(S))\n",
    "    elif op == 'empty':\n",
    "        print(int(len(S)==0))\n",
    "    elif op == 'top':\n",
    "        if len(S) != 0:\n",
    "            print(S[-1])\n",
    "        else: print(-1)\n",
    "    else: # push\n",
    "        S.append(int(op.split()[1]))"
   ]
  },
  {
   "cell_type": "markdown",
   "metadata": {},
   "source": [
    "# 10773. 제로\n",
    "나코더 기장 재민이는 동아리 회식을 준비하기 위해서 장부를 관리하는 중이다.\n",
    "\n",
    "재현이는 재민이를 도와서 돈을 관리하는 중인데, 애석하게도 항상 정신없는 재현이는 돈을 실수로 잘못 부르는 사고를 치기 일쑤였다.\n",
    "\n",
    "재현이는 잘못된 수를 부를 때마다 0을 외쳐서, 가장 최근에 재민이가 쓴 수를 지우게 시킨다.\n",
    "\n",
    "재민이는 이렇게 모든 수를 받아 적은 후 그 수의 합을 알고 싶어 한다. 재민이를 도와주자!"
   ]
  },
  {
   "cell_type": "code",
   "execution_count": null,
   "metadata": {},
   "outputs": [],
   "source": [
    "K = int(input())\n",
    "stack = []\n",
    "\n",
    "for _ in range(K):\n",
    "    num = int(input())\n",
    "    if num == 0: out = stack.pop()\n",
    "    else: stack.append(num)\n",
    "print(sum(stack))"
   ]
  },
  {
   "cell_type": "markdown",
   "metadata": {},
   "source": [
    "# 9012. 괄호\n",
    "괄호 문자열(Parenthesis String, PS)은 두 개의 괄호 기호인 ‘(’ 와 ‘)’ 만으로 구성되어 있는 문자열이다. 그 중에서 괄호의 모양이 바르게 구성된 문자열을 올바른 괄호 문자열(Valid PS, VPS)이라고 부른다. 한 쌍의 괄호 기호로 된 “( )” 문자열은 기본 VPS 이라고 부른다. 만일 x 가 VPS 라면 이것을 하나의 괄호에 넣은 새로운 문자열 “(x)”도 VPS 가 된다. 그리고 두 VPS x 와 y를 접합(concatenation)시킨 새로운 문자열 xy도 VPS 가 된다. 예를 들어 “(())()”와 “((()))” 는 VPS 이지만 “(()(”, “(())()))” , 그리고 “(()” 는 모두 VPS 가 아닌 문자열이다. \n",
    "\n",
    "여러분은 입력으로 주어진 괄호 문자열이 VPS 인지 아닌지를 판단해서 그 결과를 YES 와 NO 로 나타내어야 한다. "
   ]
  },
  {
   "cell_type": "code",
   "execution_count": null,
   "metadata": {},
   "outputs": [],
   "source": [
    "import sys\n",
    "\n",
    "input = lambda: sys.stdin.readline().rstrip()\n",
    "T = int(input())\n",
    "\n",
    "for _ in range(T):\n",
    "    a = 0\n",
    "    ps = input()\n",
    "    stack = []\n",
    "    for i in range(len(ps)):\n",
    "        if ps[i] == '(':\n",
    "            stack.append(ps[i])\n",
    "        else: \n",
    "            if len(stack) != 0:\n",
    "                stack.pop()\n",
    "            else:\n",
    "                a += 1\n",
    "                print(\"NO\")\n",
    "                break\n",
    "    if len(stack) == 0 and a == 0: print(\"YES\")\n",
    "    elif len(stack) > 0 and a == 0: print(\"NO\")"
   ]
  },
  {
   "cell_type": "code",
   "execution_count": null,
   "metadata": {},
   "outputs": [],
   "source": [
    "# 다른 풀이\n",
    "import sys\n",
    "input = sys.stdin.readline\n",
    "\n",
    "for _ in range(int(input())):\n",
    "    s = input().strip()\n",
    "    while '()' in s:\n",
    "        s = s.replace('()','')\n",
    "    print('NO') if s else print('YES')"
   ]
  },
  {
   "cell_type": "markdown",
   "metadata": {},
   "source": [
    "# 4949. 균형잡힌 세상\n",
    "세계는 균형이 잘 잡혀있어야 한다. 양과 음, 빛과 어둠 그리고 왼쪽 괄호와 오른쪽 괄호처럼 말이다.\n",
    "\n",
    "정민이의 임무는 어떤 문자열이 주어졌을 때, 괄호들의 균형이 잘 맞춰져 있는지 판단하는 프로그램을 짜는 것이다.\n",
    "\n",
    "문자열에 포함되는 괄호는 소괄호(\"()\") 와 대괄호(\"[]\")로 2종류이고, 문자열이 균형을 이루는 조건은 아래와 같다.\n",
    "\n",
    "모든 왼쪽 소괄호(\"(\")는 오른쪽 소괄호(\")\")와만 짝을 이뤄야 한다.\n",
    "모든 왼쪽 대괄호(\"[\")는 오른쪽 대괄호(\"]\")와만 짝을 이뤄야 한다.\n",
    "모든 오른쪽 괄호들은 자신과 짝을 이룰 수 있는 왼쪽 괄호가 존재한다.\n",
    "모든 괄호들의 짝은 1:1 매칭만 가능하다. 즉, 괄호 하나가 둘 이상의 괄호와 짝지어지지 않는다.\n",
    "짝을 이루는 두 괄호가 있을 때, 그 사이에 있는 문자열도 균형이 잡혀야 한다.\n",
    "정민이를 도와 문자열이 주어졌을 때 균형잡힌 문자열인지 아닌지를 판단해보자."
   ]
  },
  {
   "cell_type": "code",
   "execution_count": null,
   "metadata": {},
   "outputs": [],
   "source": [
    "bal = {')':'(', ']':'['}\n",
    "\n",
    "while True:\n",
    "    char = input()\n",
    "    stack = []\n",
    "    if char == '.': break\n",
    "        \n",
    "    for i in char:\n",
    "        a = 0\n",
    "        if i in ['(', '[']: # 열린 괄호\n",
    "            stack.append(i)\n",
    "        elif i in bal: # 닫힌 괄호\n",
    "            if len(stack) != 0 and stack[-1] == bal[i]:\n",
    "                stack.pop()\n",
    "            else: \n",
    "                a += 1\n",
    "                print(\"no\")\n",
    "                break\n",
    "    if len(stack) == 0 and a==0: print(\"yes\")\n",
    "    elif len(stack) > 0 and a ==0: print(\"no\")"
   ]
  },
  {
   "cell_type": "code",
   "execution_count": null,
   "metadata": {},
   "outputs": [],
   "source": [
    "# 다른 풀이\n",
    "import sys\n",
    "input=sys.stdin.readline\n",
    "\n",
    "while True:\n",
    "    s=input().rstrip()\n",
    "    if s==\".\":break\n",
    "    if s.count(\"(\")!=s.count(\")\") or s.count(\"[\")!=s.count(\"]\"):print(\"no\");continue\n",
    "    b=\"\"\n",
    "    for i in s:\n",
    "        if i in \"()[]\":\n",
    "            b+=i\n",
    "    while \"()\" in b or \"[]\" in b:\n",
    "        if \"()\" in b:b=b.replace(\"()\",\"\")\n",
    "        if \"[]\" in b:b=b.replace(\"[]\",\"\")\n",
    "    if b==\"\":print(\"yes\")\n",
    "    else:print(\"no\")"
   ]
  },
  {
   "cell_type": "markdown",
   "metadata": {},
   "source": [
    "# 1874. 스택 수열\n",
    "스택 (stack)은 기본적인 자료구조 중 하나로, 컴퓨터 프로그램을 작성할 때 자주 이용되는 개념이다. 스택은 자료를 넣는 (push) 입구와 자료를 뽑는 (pop) 입구가 같아 제일 나중에 들어간 자료가 제일 먼저 나오는 (LIFO, Last in First out) 특성을 가지고 있다.\n",
    "\n",
    "1부터 n까지의 수를 스택에 넣었다가 뽑아 늘어놓음으로써, 하나의 수열을 만들 수 있다. 이때, 스택에 push하는 순서는 반드시 오름차순을 지키도록 한다고 하자. 임의의 수열이 주어졌을 때 스택을 이용해 그 수열을 만들 수 있는지 없는지, 있다면 어떤 순서로 push와 pop 연산을 수행해야 하는지를 알아낼 수 있다. 이를 계산하는 프로그램을 작성하라."
   ]
  },
  {
   "cell_type": "code",
   "execution_count": null,
   "metadata": {},
   "outputs": [],
   "source": [
    "n = int(input())\n",
    "a, cnt, op, stack = 0, 1, [], []\n",
    "\n",
    "for i in range(n):\n",
    "    num = int(input())\n",
    "    while cnt <= num:\n",
    "        stack.append(cnt)\n",
    "        op.append('+')\n",
    "        cnt += 1\n",
    "    if stack[-1] == num:\n",
    "        stack.pop()\n",
    "        op.append('-')\n",
    "    else:\n",
    "        print(\"NO\")\n",
    "        a += 1\n",
    "        break\n",
    "\n",
    "if a == 0:\n",
    "    print(*op, sep='\\n')"
   ]
  },
  {
   "cell_type": "markdown",
   "metadata": {},
   "source": [
    "# 12789. 도키도키 간식 드리미"
   ]
  },
  {
   "cell_type": "markdown",
   "metadata": {},
   "source": [
    "인하대학교 학생회에서는 중간, 기말고사 때마다 시험 공부에 지친 학우들을 위해 간식을 나눠주는 간식 드리미 행사를 실시한다. 승환이는 시험 기간이 될 때마다 간식을 받을 생각에 두근두근 설레서 시험 공부에 집중을 못 한다. 이번 중간고사에서도 역시 승환이는 설레는 가슴을 안고 간식을 받기 위해 미리 공지된 장소에 시간 맞춰 도착했다. 그런데 이게 무슨 날벼락인가! 그 곳에는 이미 모든 학생들이 모여있었고, 승환이는 마지막 번호표를 받게 되었다. 설상가상으로 몇몇 양심에 털이 난 학생들이 새치기를 거듭한 끝에 대기열의 순서마저 엉망이 되고 말았다. 간식을 나눠주고 있던 인규는 학우들의 터져 나오는 불만에 번호표 순서로만 간식을 줄 수 있다고 말했다. \n",
    "\n",
    "그제야 학생들이 순서대로 줄을 서려고 했지만 공간이 너무 협소해서 마음대로 이동할 수 없었다. 다행히도 대기열의 왼쪽에는 1열로 설 수 있는 공간이 존재하여 이 공간을 잘 이용하면 모두가 순서대로 간식을 받을 수 있을지도 모른다. 자칫 간식을 못 받게 될지도 모른다는 위기감을 느낀 승환이는 자신의 컴퓨터 알고리즘적 지식을 활용해 과연 모든 사람들이 순서대로 간식을 받을 수 있는지 확인하는 프로그램을 만들기로 했다. 만약 불가능 하다면 승환이는 이번 중간고사를 망치게 될 것 이고 가능하다면 힘을 얻어 중간고사를 잘 볼 수 있을지도 모른다.\n",
    "\n",
    "사람들은 현재 1열로 줄을 서있고, 맨 앞의 사람만 이동이 가능하다. 인규는 번호표 순서대로만 통과할 수 있는 라인을 만들어 두었다. 이 라인과 대기열의 맨 앞 사람 사이에는 한 사람씩 1열이 들어갈 수 있는 공간이 있다. 현재 대기열의 사람들은 이 공간으로 올 수 있지만 반대는 불가능하다. 승환이를 도와 프로그램을 완성하라."
   ]
  },
  {
   "cell_type": "code",
   "execution_count": 3,
   "metadata": {},
   "outputs": [
    {
     "name": "stdout",
     "output_type": "stream",
     "text": [
      "Nice\n"
     ]
    }
   ],
   "source": [
    "N = int(input())\n",
    "arr = list(map(int, input().split()))\n",
    "arr_save = []\n",
    "order = 1\n",
    "\n",
    "while len(arr) > 0: # while arr:\n",
    "    if arr[0] == order:\n",
    "        arr.pop(0)\n",
    "        order += 1\n",
    "    else:\n",
    "        arr_save.append(arr.pop(0))\n",
    "        \n",
    "    while len(arr_save) > 0: # while arr_save\n",
    "        if arr_save[-1] == order:\n",
    "            arr_save.pop()\n",
    "            order += 1\n",
    "        else:\n",
    "            break\n",
    "            \n",
    "if len(arr) == 0 and order == N+1:\n",
    "    print('Nice')\n",
    "else:\n",
    "    print('Sad')"
   ]
  },
  {
   "cell_type": "markdown",
   "metadata": {},
   "source": [
    "# 1918. 후위 표기식"
   ]
  },
  {
   "cell_type": "markdown",
   "metadata": {},
   "source": [
    "수식은 일반적으로 3가지 표기법으로 표현할 수 있다. 연산자가 피연산자 가운데 위치하는 중위 표기법(일반적으로 우리가 쓰는 방법이다), 연산자가 피연산자 앞에 위치하는 전위 표기법(prefix notation), 연산자가 피연산자 뒤에 위치하는 후위 표기법(postfix notation)이 그것이다. 예를 들어 중위 표기법으로 표현된 a+b는 전위 표기법으로는 +ab이고, 후위 표기법으로는 ab+가 된다.\n",
    "\n",
    "이 문제에서 우리가 다룰 표기법은 후위 표기법이다. 후위 표기법은 위에서 말한 법과 같이 연산자가 피연산자 뒤에 위치하는 방법이다. 이 방법의 장점은 다음과 같다. 우리가 흔히 쓰는 중위 표기식 같은 경우에는 덧셈과 곱셈의 우선순위에 차이가 있어 왼쪽부터 차례로 계산할 수 없지만 후위 표기식을 사용하면 순서를 적절히 조절하여 순서를 정해줄 수 있다. 또한 같은 방법으로 괄호 등도 필요 없게 된다. 예를 들어 a+b*c를 후위 표기식으로 바꾸면 abc*+가 된다.\n",
    "\n",
    "중위 표기식을 후위 표기식으로 바꾸는 방법을 간단히 설명하면 이렇다. 우선 주어진 중위 표기식을 연산자의 우선순위에 따라 괄호로 묶어준다. 그런 다음에 괄호 안의 연산자를 괄호의 오른쪽으로 옮겨주면 된다.\n",
    "\n",
    "예를 들어 a+b*c는 (a+(b*c))의 식과 같게 된다. 그 다음에 안에 있는 괄호의 연산자 *를 괄호 밖으로 꺼내게 되면 (a+bc*)가 된다. 마지막으로 또 +를 괄호의 오른쪽으로 고치면 abc*+가 되게 된다.\n",
    "\n",
    "다른 예를 들어 그림으로 표현하면 A+B*C-D/E를 완전하게 괄호로 묶고 연산자를 이동시킬 장소를 표시하면 다음과 같이 된다.\n",
    "\n",
    "\n",
    "\n",
    "결과: ABC*+DE/-\n",
    "\n",
    "이러한 사실을 알고 중위 표기식이 주어졌을 때 후위 표기식으로 고치는 프로그램을 작성하시오"
   ]
  },
  {
   "cell_type": "code",
   "execution_count": null,
   "metadata": {},
   "outputs": [],
   "source": [
    "x = input()\n",
    "ops = {'*':1, '/':1, '+':2, '-':2, '(':3}\n",
    "\n",
    "stack = []\n",
    "ans = ''\n",
    "\n",
    "for i in x:\n",
    "    if i in ops:\n",
    "        if len(stack) == 0:\n",
    "            stack.append(i)\n",
    "        else:\n",
    "            if ops[i] < ops[stack[-1]] or i == '(':\n",
    "                stack.append(i)\n",
    "            else:\n",
    "                while len(stack) > 0:\n",
    "                    if ops[stack[-1]] <= ops[i]:\n",
    "                        ans += stack.pop()\n",
    "                    else:\n",
    "                        break\n",
    "                stack.append(i)\n",
    "\n",
    "    elif i == ')':\n",
    "        while stack[-1] != '(':\n",
    "            ans += stack.pop()\n",
    "        stack.pop() # (\n",
    "\n",
    "    else: # 문자열\n",
    "        ans += i\n",
    "    \n",
    "while len(stack) > 0:\n",
    "    ans += stack.pop()\n",
    "\n",
    "print(ans)"
   ]
  }
 ],
 "metadata": {
  "kernelspec": {
   "display_name": "Python 3.9.15 ('yeonii')",
   "language": "python",
   "name": "python3"
  },
  "language_info": {
   "codemirror_mode": {
    "name": "ipython",
    "version": 3
   },
   "file_extension": ".py",
   "mimetype": "text/x-python",
   "name": "python",
   "nbconvert_exporter": "python",
   "pygments_lexer": "ipython3",
   "version": "3.9.15"
  },
  "orig_nbformat": 4,
  "vscode": {
   "interpreter": {
    "hash": "19cdb573a42401074e38f706383cbfa1833acb696c2188dc3609525a6f268ee1"
   }
  }
 },
 "nbformat": 4,
 "nbformat_minor": 2
}
