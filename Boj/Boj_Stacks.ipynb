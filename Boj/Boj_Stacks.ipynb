{
 "cells": [
  {
   "cell_type": "markdown",
   "metadata": {},
   "source": [
    "# 10828. 스택\n",
    "정수를 저장하는 스택을 구현한 다음, 입력으로 주어지는 명령을 처리하는 프로그램을 작성하시오.\n",
    "명령은 총 다섯 가지이다.\n",
    "- push X: 정수 X를 스택에 넣는 연산이다.\n",
    "- pop: 스택에서 가장 위에 있는 정수를 빼고, 그 수를 출력한다. 만약 스택에 들어있는 정수가 없는 경우에는 -1을 출력한다.\n",
    "- size: 스택에 들어있는 정수의 개수를 출력한다.\n",
    "- empty: 스택이 비어있으면 1, 아니면 0을 출력한다.\n",
    "- top: 스택의 가장 위에 있는 정수를 출력한다. 만약 스택에 들어있는 정수가 없는 경우에는 -1을 출력한다."
   ]
  },
  {
   "cell_type": "code",
   "execution_count": null,
   "metadata": {},
   "outputs": [],
   "source": [
    "import sys\n",
    "input = lambda: sys.stdin.readline().rstrip()\n",
    "N = int(input())\n",
    "S = []\n",
    "\n",
    "for _ in range(N):\n",
    "    op = input()\n",
    "    if op == 'pop':\n",
    "        if len(S) > 0: print(S.pop())\n",
    "        else: print(-1)\n",
    "    elif op == 'size':\n",
    "        print(len(S))\n",
    "    elif op == 'empty':\n",
    "        print(int(len(S)==0))\n",
    "    elif op == 'top':\n",
    "        if len(S) != 0:\n",
    "            print(S[-1])\n",
    "        else: print(-1)\n",
    "    else: # push\n",
    "        S.append(int(op.split()[1]))"
   ]
  },
  {
   "cell_type": "markdown",
   "metadata": {},
   "source": [
    "# 10773. 제로\n",
    "나코더 기장 재민이는 동아리 회식을 준비하기 위해서 장부를 관리하는 중이다.\n",
    "\n",
    "재현이는 재민이를 도와서 돈을 관리하는 중인데, 애석하게도 항상 정신없는 재현이는 돈을 실수로 잘못 부르는 사고를 치기 일쑤였다.\n",
    "\n",
    "재현이는 잘못된 수를 부를 때마다 0을 외쳐서, 가장 최근에 재민이가 쓴 수를 지우게 시킨다.\n",
    "\n",
    "재민이는 이렇게 모든 수를 받아 적은 후 그 수의 합을 알고 싶어 한다. 재민이를 도와주자!"
   ]
  },
  {
   "cell_type": "code",
   "execution_count": null,
   "metadata": {},
   "outputs": [],
   "source": [
    "K = int(input())\n",
    "stack = []\n",
    "\n",
    "for _ in range(K):\n",
    "    num = int(input())\n",
    "    if num == 0: out = stack.pop()\n",
    "    else: stack.append(num)\n",
    "print(sum(stack))"
   ]
  },
  {
   "cell_type": "markdown",
   "metadata": {},
   "source": [
    "# 9012. 괄호\n",
    "괄호 문자열(Parenthesis String, PS)은 두 개의 괄호 기호인 ‘(’ 와 ‘)’ 만으로 구성되어 있는 문자열이다. 그 중에서 괄호의 모양이 바르게 구성된 문자열을 올바른 괄호 문자열(Valid PS, VPS)이라고 부른다. 한 쌍의 괄호 기호로 된 “( )” 문자열은 기본 VPS 이라고 부른다. 만일 x 가 VPS 라면 이것을 하나의 괄호에 넣은 새로운 문자열 “(x)”도 VPS 가 된다. 그리고 두 VPS x 와 y를 접합(concatenation)시킨 새로운 문자열 xy도 VPS 가 된다. 예를 들어 “(())()”와 “((()))” 는 VPS 이지만 “(()(”, “(())()))” , 그리고 “(()” 는 모두 VPS 가 아닌 문자열이다. \n",
    "\n",
    "여러분은 입력으로 주어진 괄호 문자열이 VPS 인지 아닌지를 판단해서 그 결과를 YES 와 NO 로 나타내어야 한다. "
   ]
  },
  {
   "cell_type": "code",
   "execution_count": null,
   "metadata": {},
   "outputs": [],
   "source": [
    "import sys\n",
    "\n",
    "input = lambda: sys.stdin.readline().rstrip()\n",
    "T = int(input())\n",
    "\n",
    "for _ in range(T):\n",
    "    a = 0\n",
    "    ps = input()\n",
    "    stack = []\n",
    "    for i in range(len(ps)):\n",
    "        if ps[i] == '(':\n",
    "            stack.append(ps[i])\n",
    "        else: \n",
    "            if len(stack) != 0:\n",
    "                stack.pop()\n",
    "            else:\n",
    "                a += 1\n",
    "                print(\"NO\")\n",
    "                break\n",
    "    if len(stack) == 0 and a == 0: print(\"YES\")\n",
    "    elif len(stack) > 0 and a == 0: print(\"NO\")"
   ]
  },
  {
   "cell_type": "code",
   "execution_count": null,
   "metadata": {},
   "outputs": [],
   "source": [
    "# 다른 풀이\n",
    "import sys\n",
    "input = sys.stdin.readline\n",
    "\n",
    "for _ in range(int(input())):\n",
    "    s = input().strip()\n",
    "    while '()' in s:\n",
    "        s = s.replace('()','')\n",
    "    print('NO') if s else print('YES')"
   ]
  },
  {
   "cell_type": "markdown",
   "metadata": {},
   "source": [
    "# 4949. 균형잡힌 세상\n",
    "세계는 균형이 잘 잡혀있어야 한다. 양과 음, 빛과 어둠 그리고 왼쪽 괄호와 오른쪽 괄호처럼 말이다.\n",
    "\n",
    "정민이의 임무는 어떤 문자열이 주어졌을 때, 괄호들의 균형이 잘 맞춰져 있는지 판단하는 프로그램을 짜는 것이다.\n",
    "\n",
    "문자열에 포함되는 괄호는 소괄호(\"()\") 와 대괄호(\"[]\")로 2종류이고, 문자열이 균형을 이루는 조건은 아래와 같다.\n",
    "\n",
    "모든 왼쪽 소괄호(\"(\")는 오른쪽 소괄호(\")\")와만 짝을 이뤄야 한다.\n",
    "모든 왼쪽 대괄호(\"[\")는 오른쪽 대괄호(\"]\")와만 짝을 이뤄야 한다.\n",
    "모든 오른쪽 괄호들은 자신과 짝을 이룰 수 있는 왼쪽 괄호가 존재한다.\n",
    "모든 괄호들의 짝은 1:1 매칭만 가능하다. 즉, 괄호 하나가 둘 이상의 괄호와 짝지어지지 않는다.\n",
    "짝을 이루는 두 괄호가 있을 때, 그 사이에 있는 문자열도 균형이 잡혀야 한다.\n",
    "정민이를 도와 문자열이 주어졌을 때 균형잡힌 문자열인지 아닌지를 판단해보자."
   ]
  },
  {
   "cell_type": "code",
   "execution_count": null,
   "metadata": {},
   "outputs": [],
   "source": [
    "bal = {')':'(', ']':'['}\n",
    "\n",
    "while True:\n",
    "    char = input()\n",
    "    stack = []\n",
    "    if char == '.': break\n",
    "        \n",
    "    for i in char:\n",
    "        a = 0\n",
    "        if i in ['(', '[']: # 열린 괄호\n",
    "            stack.append(i)\n",
    "        elif i in bal: # 닫힌 괄호\n",
    "            if len(stack) != 0 and stack[-1] == bal[i]:\n",
    "                stack.pop()\n",
    "            else: \n",
    "                a += 1\n",
    "                print(\"no\")\n",
    "                break\n",
    "    if len(stack) == 0 and a==0: print(\"yes\")\n",
    "    elif len(stack) > 0 and a ==0: print(\"no\")"
   ]
  },
  {
   "cell_type": "code",
   "execution_count": null,
   "metadata": {},
   "outputs": [],
   "source": [
    "# 다른 풀이\n",
    "import sys\n",
    "input=sys.stdin.readline\n",
    "\n",
    "while True:\n",
    "    s=input().rstrip()\n",
    "    if s==\".\":break\n",
    "    if s.count(\"(\")!=s.count(\")\") or s.count(\"[\")!=s.count(\"]\"):print(\"no\");continue\n",
    "    b=\"\"\n",
    "    for i in s:\n",
    "        if i in \"()[]\":\n",
    "            b+=i\n",
    "    while \"()\" in b or \"[]\" in b:\n",
    "        if \"()\" in b:b=b.replace(\"()\",\"\")\n",
    "        if \"[]\" in b:b=b.replace(\"[]\",\"\")\n",
    "    if b==\"\":print(\"yes\")\n",
    "    else:print(\"no\")"
   ]
  },
  {
   "cell_type": "markdown",
   "metadata": {},
   "source": [
    "# 1874. 스택 수열\n",
    "스택 (stack)은 기본적인 자료구조 중 하나로, 컴퓨터 프로그램을 작성할 때 자주 이용되는 개념이다. 스택은 자료를 넣는 (push) 입구와 자료를 뽑는 (pop) 입구가 같아 제일 나중에 들어간 자료가 제일 먼저 나오는 (LIFO, Last in First out) 특성을 가지고 있다.\n",
    "\n",
    "1부터 n까지의 수를 스택에 넣었다가 뽑아 늘어놓음으로써, 하나의 수열을 만들 수 있다. 이때, 스택에 push하는 순서는 반드시 오름차순을 지키도록 한다고 하자. 임의의 수열이 주어졌을 때 스택을 이용해 그 수열을 만들 수 있는지 없는지, 있다면 어떤 순서로 push와 pop 연산을 수행해야 하는지를 알아낼 수 있다. 이를 계산하는 프로그램을 작성하라."
   ]
  },
  {
   "cell_type": "code",
   "execution_count": null,
   "metadata": {},
   "outputs": [],
   "source": [
    "n = int(input())\n",
    "a, cnt, op, stack = 0, 1, [], []\n",
    "\n",
    "for i in range(n):\n",
    "    num = int(input())\n",
    "    while cnt <= num:\n",
    "        stack.append(cnt)\n",
    "        op.append('+')\n",
    "        cnt += 1\n",
    "    if stack[-1] == num:\n",
    "        stack.pop()\n",
    "        op.append('-')\n",
    "    else:\n",
    "        print(\"NO\")\n",
    "        a += 1\n",
    "        break\n",
    "\n",
    "if a == 0:\n",
    "    print(*op, sep='\\n')"
   ]
  }
 ],
 "metadata": {
  "kernelspec": {
   "display_name": "Python 3.9.15 ('yeonii')",
   "language": "python",
   "name": "python3"
  },
  "language_info": {
   "codemirror_mode": {
    "name": "ipython",
    "version": 3
   },
   "file_extension": ".py",
   "mimetype": "text/x-python",
   "name": "python",
   "nbconvert_exporter": "python",
   "pygments_lexer": "ipython3",
   "version": "3.9.15"
  },
  "orig_nbformat": 4,
  "vscode": {
   "interpreter": {
    "hash": "19cdb573a42401074e38f706383cbfa1833acb696c2188dc3609525a6f268ee1"
   }
  }
 },
 "nbformat": 4,
 "nbformat_minor": 2
}
