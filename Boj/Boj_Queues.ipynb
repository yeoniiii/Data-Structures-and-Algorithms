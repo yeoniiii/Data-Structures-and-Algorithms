{
 "cells": [
  {
   "cell_type": "markdown",
   "metadata": {},
   "source": [
    "# 18258. 큐 2\n",
    "정수를 저장하는 큐를 구현한 다음, 입력으로 주어지는 명령을 처리하는 프로그램을 작성하시오.\n",
    "\n",
    "명령은 총 여섯 가지이다.\n",
    "\n",
    "push X: 정수 X를 큐에 넣는 연산이다.\n",
    "pop: 큐에서 가장 앞에 있는 정수를 빼고, 그 수를 출력한다. 만약 큐에 들어있는 정수가 없는 경우에는 -1을 출력한다.\n",
    "size: 큐에 들어있는 정수의 개수를 출력한다.\n",
    "empty: 큐가 비어있으면 1, 아니면 0을 출력한다.\n",
    "front: 큐의 가장 앞에 있는 정수를 출력한다. 만약 큐에 들어있는 정수가 없는 경우에는 -1을 출력한다.\n",
    "back: 큐의 가장 뒤에 있는 정수를 출력한다. 만약 큐에 들어있는 정수가 없는 경우에는 -1을 출력한다."
   ]
  },
  {
   "cell_type": "code",
   "execution_count": null,
   "metadata": {},
   "outputs": [],
   "source": [
    "# collections deque 이용\n",
    "\n",
    "import sys\n",
    "from collections import deque\n",
    "\n",
    "input = lambda: sys.stdin.readline().rstrip()\n",
    "N = int(input())\n",
    "queue = deque([])\n",
    "\n",
    "for _ in range(N):\n",
    "    op = input()\n",
    "    if op == 'pop':\n",
    "        if len(queue) != 0:\n",
    "            print(queue.popleft())\n",
    "        else: print(-1)\n",
    "    elif op == 'size':\n",
    "        print(len(queue))\n",
    "    elif op == 'empty':\n",
    "        print(int(len(queue)==0))\n",
    "    elif op == 'front':\n",
    "        if len(queue) != 0:\n",
    "            print(queue[0])\n",
    "        else: print(-1)\n",
    "    elif op == 'back':\n",
    "        if len(queue) != 0:\n",
    "            print(queue[-1])\n",
    "        else: print(-1)\n",
    "    else: # push\n",
    "        queue.append(int(op.split()[1]))"
   ]
  },
  {
   "cell_type": "code",
   "execution_count": null,
   "metadata": {},
   "outputs": [],
   "source": [
    "# 다른 풀이\n",
    "\n",
    "import sys\n",
    "\n",
    "\n",
    "def solve():\n",
    "    q = [0]*2000000\n",
    "    front = rear = 0\n",
    "    res = []\n",
    "    for string in sys.stdin.read().splitlines()[1:]:\n",
    "        t = string[1]\n",
    "        if t == \"u\":\n",
    "            q[rear] = string[5:]\n",
    "            rear += 1\n",
    "        elif t == \"o\":\n",
    "            if front == rear:\n",
    "                res.append('-1')\n",
    "            else:\n",
    "                res.append(q[front])\n",
    "                front += 1\n",
    "        elif t == \"i\":\n",
    "            res.append(str(rear-front))\n",
    "        elif t == \"m\":\n",
    "            res.append('1' if front == rear else '0')\n",
    "        elif t == \"r\":\n",
    "            res.append(q[front] if front != rear else '-1')\n",
    "        elif t == \"a\":\n",
    "            res.append(q[rear-1] if front != rear else '-1')\n",
    "\n",
    "    sys.stdout.write('\\n'.join(res))\n",
    "\n",
    "\n",
    "if __name__ == '__main__':\n",
    "    solve()"
   ]
  },
  {
   "cell_type": "markdown",
   "metadata": {},
   "source": [
    "# 2164. 카드2\n",
    "N장의 카드가 있다. 각각의 카드는 차례로 1부터 N까지의 번호가 붙어 있으며, 1번 카드가 제일 위에, N번 카드가 제일 아래인 상태로 순서대로 카드가 놓여 있다.\n",
    "\n",
    "이제 다음과 같은 동작을 카드가 한 장 남을 때까지 반복하게 된다. 우선, 제일 위에 있는 카드를 바닥에 버린다. 그 다음, 제일 위에 있는 카드를 제일 아래에 있는 카드 밑으로 옮긴다.\n",
    "\n",
    "예를 들어 N=4인 경우를 생각해 보자. 카드는 제일 위에서부터 1234 의 순서로 놓여있다. 1을 버리면 234가 남는다. 여기서 2를 제일 아래로 옮기면 342가 된다. 3을 버리면 42가 되고, 4를 밑으로 옮기면 24가 된다. 마지막으로 2를 버리고 나면, 남는 카드는 4가 된다.\n",
    "\n",
    "N이 주어졌을 때, 제일 마지막에 남게 되는 카드를 구하는 프로그램을 작성하시오."
   ]
  },
  {
   "cell_type": "code",
   "execution_count": null,
   "metadata": {},
   "outputs": [],
   "source": [
    "# collections deque 이용\n",
    "\n",
    "from collections import deque\n",
    "N = int(input())\n",
    "queue = deque(list(range(1, N+1)))\n",
    "\n",
    "while len(queue) >= 3:\n",
    "    queue.popleft()\n",
    "    queue.append(queue.popleft())\n",
    "print(queue[-1])"
   ]
  },
  {
   "cell_type": "code",
   "execution_count": null,
   "metadata": {},
   "outputs": [],
   "source": [
    "# 수학 이용\n",
    "\n",
    "n,m = int(input()), 1\n",
    "while m<n: # O(logn)\n",
    "    m *= 2\n",
    "print(2*n-m)"
   ]
  },
  {
   "cell_type": "markdown",
   "metadata": {},
   "source": [
    "# 11866. 요세푸스 문제 0"
   ]
  },
  {
   "cell_type": "markdown",
   "metadata": {},
   "source": [
    "요세푸스 문제는 다음과 같다.\n",
    "\n",
    "1번부터 N번까지 N명의 사람이 원을 이루면서 앉아있고, 양의 정수 K(≤ N)가 주어진다. 이제 순서대로 K번째 사람을 제거한다. 한 사람이 제거되면 남은 사람들로 이루어진 원을 따라 이 과정을 계속해 나간다. 이 과정은 N명의 사람이 모두 제거될 때까지 계속된다. 원에서 사람들이 제거되는 순서를 (N, K)-요세푸스 순열이라고 한다. 예를 들어 (7, 3)-요세푸스 순열은 <3, 6, 2, 7, 5, 1, 4>이다.\n",
    "\n",
    "N과 K가 주어지면 (N, K)-요세푸스 순열을 구하는 프로그램을 작성하시오."
   ]
  },
  {
   "cell_type": "code",
   "execution_count": 1,
   "metadata": {},
   "outputs": [
    {
     "name": "stdout",
     "output_type": "stream",
     "text": [
      "<3, 6, 2, 7, 5, 1, 4>\n"
     ]
    }
   ],
   "source": [
    "from collections import deque\n",
    "\n",
    "N, K = map(int, input().split())\n",
    "\n",
    "queue = deque()\n",
    "for i in range(N):\n",
    "    queue.append(i+1)\n",
    "curr = queue[K-1]\n",
    "ans = '<'\n",
    "\n",
    "while queue:\n",
    "    if queue[0] == curr:\n",
    "        ans += str(queue[0])+', '\n",
    "        queue.popleft()\n",
    "        if queue:\n",
    "            curr = queue[(K-1) % len(queue)]\n",
    "    else:\n",
    "        queue.append(queue.popleft())\n",
    "\n",
    "print(ans[:-2] + '>')"
   ]
  }
 ],
 "metadata": {
  "kernelspec": {
   "display_name": "Python 3.9.15 ('yeonii')",
   "language": "python",
   "name": "python3"
  },
  "language_info": {
   "codemirror_mode": {
    "name": "ipython",
    "version": 3
   },
   "file_extension": ".py",
   "mimetype": "text/x-python",
   "name": "python",
   "nbconvert_exporter": "python",
   "pygments_lexer": "ipython3",
   "version": "3.9.15"
  },
  "orig_nbformat": 4,
  "vscode": {
   "interpreter": {
    "hash": "19cdb573a42401074e38f706383cbfa1833acb696c2188dc3609525a6f268ee1"
   }
  }
 },
 "nbformat": 4,
 "nbformat_minor": 2
}
