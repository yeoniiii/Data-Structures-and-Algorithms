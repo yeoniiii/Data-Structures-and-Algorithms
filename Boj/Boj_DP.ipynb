{
 "cells": [
  {
   "cell_type": "markdown",
   "metadata": {},
   "source": [
    "# 1904. 01타일"
   ]
  },
  {
   "cell_type": "markdown",
   "metadata": {},
   "source": [
    "지원이에게 2진 수열을 가르쳐 주기 위해, 지원이 아버지는 그에게 타일들을 선물해주셨다. 그리고 이 각각의 타일들은 0 또는 1이 쓰여 있는 낱장의 타일들이다.\n",
    "\n",
    "어느 날 짓궂은 동주가 지원이의 공부를 방해하기 위해 0이 쓰여진 낱장의 타일들을 붙여서 한 쌍으로 이루어진 00 타일들을 만들었다. 결국 현재 1 하나만으로 이루어진 타일 또는 0타일을 두 개 붙인 한 쌍의 00타일들만이 남게 되었다.\n",
    "\n",
    "그러므로 지원이는 타일로 더 이상 크기가 N인 모든 2진 수열을 만들 수 없게 되었다. 예를 들어, N=1일 때 1만 만들 수 있고, N=2일 때는 00, 11을 만들 수 있다. (01, 10은 만들 수 없게 되었다.) 또한 N=4일 때는 0011, 0000, 1001, 1100, 1111 등 총 5개의 2진 수열을 만들 수 있다.\n",
    "\n",
    "우리의 목표는 N이 주어졌을 때 지원이가 만들 수 있는 모든 가짓수를 세는 것이다. 단 타일들은 무한히 많은 것으로 가정하자."
   ]
  },
  {
   "cell_type": "code",
   "execution_count": null,
   "metadata": {},
   "outputs": [],
   "source": [
    "N = int(input())\n",
    "d = [0] * (N+1)\n",
    "d[0] = 1\n",
    "d[1] = 1\n",
    "\n",
    "if 2 <= N+1:\n",
    "    for i in range(2, N+1):\n",
    "        d[i] = (d[i-2] + d[i-1]) % 15746\n",
    "    \n",
    "print(d[N])"
   ]
  },
  {
   "cell_type": "markdown",
   "metadata": {},
   "source": [
    "# 9184. 신나는 함수 실행"
   ]
  },
  {
   "cell_type": "markdown",
   "metadata": {},
   "source": [
    "재귀 호출만 생각하면 신이 난다! 아닌가요?\n",
    "\n",
    "다음과 같은 재귀함수 w(a, b, c)가 있다.\n",
    "\n",
    "if a <= 0 or b <= 0 or c <= 0, then w(a, b, c) returns:\n",
    "    1\n",
    "\n",
    "if a > 20 or b > 20 or c > 20, then w(a, b, c) returns:\n",
    "    w(20, 20, 20)\n",
    "\n",
    "if a < b and b < c, then w(a, b, c) returns:\n",
    "    w(a, b, c-1) + w(a, b-1, c-1) - w(a, b-1, c)\n",
    "\n",
    "otherwise it returns:\n",
    "    w(a-1, b, c) + w(a-1, b-1, c) + w(a-1, b, c-1) - w(a-1, b-1, c-1)\n",
    "위의 함수를 구현하는 것은 매우 쉽다. 하지만, 그대로 구현하면 값을 구하는데 매우 오랜 시간이 걸린다. (예를 들면, a=15, b=15, c=15)\n",
    "\n",
    "a, b, c가 주어졌을 때, w(a, b, c)를 출력하는 프로그램을 작성하시오."
   ]
  },
  {
   "cell_type": "code",
   "execution_count": null,
   "metadata": {},
   "outputs": [],
   "source": [
    "d = [[[0]*(21) for _ in range(21)] for _ in range(21)]\n",
    "\n",
    "for i in range(21):\n",
    "    for j in range(21):\n",
    "        for k in range(21):\n",
    "            if i<=0 or j<=0 or k<=0:\n",
    "                d[i][j][k] = 1\n",
    "            elif i<j<k:\n",
    "                d[i][j][k] = d[i][j][k-1] + d[i][j-1][k-1] - d[i][j-1][k]\n",
    "            else:\n",
    "                d[i][j][k] = d[i-1][j][k] + d[i-1][j-1][k] + d[i-1][j][k-1] - d[i-1][j-1][k-1]\n",
    "                \n",
    "while True:\n",
    "    a, b, c = map(int, input().split())\n",
    "    if a==b==c==-1:\n",
    "        break\n",
    "    if a<=0 or b<=0 or c<=0:\n",
    "        ans = 1\n",
    "    elif a>20 or b>20 or c>20:\n",
    "        ans = d[20][20][20]\n",
    "    else:\n",
    "        ans = d[a][b][c]\n",
    "    print('w(', a, ', ', b, ', ', c, ') = ', ans, sep='')"
   ]
  },
  {
   "cell_type": "markdown",
   "metadata": {},
   "source": [
    "# 1149. RGB거리"
   ]
  },
  {
   "cell_type": "markdown",
   "metadata": {},
   "source": [
    "RGB거리에는 집이 N개 있다. 거리는 선분으로 나타낼 수 있고, 1번 집부터 N번 집이 순서대로 있다.\n",
    "\n",
    "집은 빨강, 초록, 파랑 중 하나의 색으로 칠해야 한다. 각각의 집을 빨강, 초록, 파랑으로 칠하는 비용이 주어졌을 때, 아래 규칙을 만족하면서 모든 집을 칠하는 비용의 최솟값을 구해보자.\n",
    "\n",
    "1번 집의 색은 2번 집의 색과 같지 않아야 한다.\n",
    "N번 집의 색은 N-1번 집의 색과 같지 않아야 한다.\n",
    "i(2 ≤ i ≤ N-1)번 집의 색은 i-1번, i+1번 집의 색과 같지 않아야 한다."
   ]
  },
  {
   "cell_type": "code",
   "execution_count": null,
   "metadata": {},
   "outputs": [],
   "source": [
    "N = int(input())\n",
    "cost = [[]]\n",
    "for i in range(N):\n",
    "    cost.append(list(map(int, input().split())))\n",
    "\n",
    "total_cost = [[0, 0, 0] for i in range(N+1)]\n",
    "\n",
    "for i in range(1, N+1):\n",
    "    total_cost[i][0] = cost[i][0] + min(total_cost[i-1][1], total_cost[i-1][2])\n",
    "    total_cost[i][1] = cost[i][1] + min(total_cost[i-1][0], total_cost[i-1][2])\n",
    "    total_cost[i][2] = cost[i][2] + min(total_cost[i-1][0], total_cost[i-1][1])\n",
    "    \n",
    "print(min(total_cost[N]))"
   ]
  },
  {
   "cell_type": "markdown",
   "metadata": {},
   "source": [
    "# 17404. RGB거리 2"
   ]
  },
  {
   "cell_type": "markdown",
   "metadata": {},
   "source": [
    "RGB거리에는 집이 N개 있다. 거리는 선분으로 나타낼 수 있고, 1번 집부터 N번 집이 순서대로 있다.\n",
    "\n",
    "집은 빨강, 초록, 파랑 중 하나의 색으로 칠해야 한다. 각각의 집을 빨강, 초록, 파랑으로 칠하는 비용이 주어졌을 때, 아래 규칙을 만족하면서 모든 집을 칠하는 비용의 최솟값을 구해보자.\n",
    "\n",
    "1번 집의 색은 2번, N번 집의 색과 같지 않아야 한다.\n",
    "N번 집의 색은 N-1번, 1번 집의 색과 같지 않아야 한다.\n",
    "i(2 ≤ i ≤ N-1)번 집의 색은 i-1, i+1번 집의 색과 같지 않아야 한다."
   ]
  },
  {
   "cell_type": "code",
   "execution_count": null,
   "metadata": {},
   "outputs": [],
   "source": [
    "N = int(input())\n",
    "cost = [[]]\n",
    "for i in range(N):\n",
    "    cost.append(list(map(int, input().split())))\n",
    "\n",
    "def rgb(start):\n",
    "    total_cost = [[10**6] * 3 for _ in range(N+1)]\n",
    "    total_cost[1][start] = cost[1][start]\n",
    "\n",
    "    for h in range(2, N+1):\n",
    "        for j in range(3):\n",
    "            for k in range(3):\n",
    "                if j!=k and total_cost[h][j] > cost[h][j] + total_cost[h-1][k]:\n",
    "                    if h < N or (h==N and j!= start):\n",
    "                        total_cost[h][j] = cost[h][j] + total_cost[h-1][k]\n",
    "                    \n",
    "    return min(total_cost[N])\n",
    "\n",
    "print(min(rgb(0), rgb(1), rgb(2)))"
   ]
  },
  {
   "cell_type": "markdown",
   "metadata": {},
   "source": [
    "# 1932. 정수 삼각형"
   ]
  },
  {
   "cell_type": "markdown",
   "metadata": {},
   "source": [
    "위 그림은 크기가 5인 정수 삼각형의 한 모습이다.\n",
    "\n",
    "맨 위층 7부터 시작해서 아래에 있는 수 중 하나를 선택하여 아래층으로 내려올 때, 이제까지 선택된 수의 합이 최대가 되는 경로를 구하는 프로그램을 작성하라. 아래층에 있는 수는 현재 층에서 선택된 수의 대각선 왼쪽 또는 대각선 오른쪽에 있는 것 중에서만 선택할 수 있다.\n",
    "\n",
    "삼각형의 크기는 1 이상 500 이하이다. 삼각형을 이루고 있는 각 수는 모두 정수이며, 범위는 0 이상 9999 이하이다."
   ]
  },
  {
   "cell_type": "code",
   "execution_count": null,
   "metadata": {},
   "outputs": [],
   "source": [
    "N = int(input())\n",
    "num = [[]]\n",
    "for i in range(N):\n",
    "    num.append(list(map(int, input().split())))\n",
    "    \n",
    "\n",
    "route = [[0] * i for i in range(N+1)]\n",
    "\n",
    "route[1] = num[1]\n",
    "if N >= 2:\n",
    "    route[2][0] = num[2][0] + route[1][0]\n",
    "    route[2][1] = num[2][1] + route[1][0]\n",
    "if N >= 3:\n",
    "    for i in range(3, N+1):\n",
    "        for j in range(i):\n",
    "            if j == 0:\n",
    "                route[i][j] = num[i][j] + route[i-1][j]\n",
    "            elif j == i-1:\n",
    "                route[i][j] = num[i][j] + route[i-1][j-1]\n",
    "            else:\n",
    "                route[i][j] = num[i][j] + max(route[i-1][j-1], route[i-1][j])\n",
    "\n",
    "print(max(route[N]))"
   ]
  },
  {
   "cell_type": "markdown",
   "metadata": {},
   "source": [
    "# 9465. 스티커"
   ]
  },
  {
   "cell_type": "markdown",
   "metadata": {},
   "source": [
    "상근이의 여동생 상냥이는 문방구에서 스티커 2n개를 구매했다. 스티커는 그림 (a)와 같이 2행 n열로 배치되어 있다. 상냥이는 스티커를 이용해 책상을 꾸미려고 한다.\n",
    "\n",
    "상냥이가 구매한 스티커의 품질은 매우 좋지 않다. 스티커 한 장을 떼면, 그 스티커와 변을 공유하는 스티커는 모두 찢어져서 사용할 수 없게 된다. 즉, 뗀 스티커의 왼쪽, 오른쪽, 위, 아래에 있는 스티커는 사용할 수 없게 된다.\n",
    "\n",
    "\n",
    "\n",
    "모든 스티커를 붙일 수 없게된 상냥이는 각 스티커에 점수를 매기고, 점수의 합이 최대가 되게 스티커를 떼어내려고 한다. 먼저, 그림 (b)와 같이 각 스티커에 점수를 매겼다. 상냥이가 뗄 수 있는 스티커의 점수의 최댓값을 구하는 프로그램을 작성하시오. 즉, 2n개의 스티커 중에서 점수의 합이 최대가 되면서 서로 변을 공유 하지 않는 스티커 집합을 구해야 한다.\n",
    "\n",
    "위의 그림의 경우에 점수가 50, 50, 100, 60인 스티커를 고르면, 점수는 260이 되고 이 것이 최대 점수이다. 가장 높은 점수를 가지는 두 스티커 (100과 70)은 변을 공유하기 때문에, 동시에 뗄 수 없다."
   ]
  },
  {
   "cell_type": "code",
   "execution_count": null,
   "metadata": {},
   "outputs": [],
   "source": [
    "def sticker(N):\n",
    "    arr = []\n",
    "    for i in range(2):\n",
    "        arr.append(list(map(int, input().split())))\n",
    "\n",
    "    d = [[0] * N for _ in range(2)]\n",
    "    \n",
    "    d[0][0] = arr[0][0]\n",
    "    d[1][0] = arr[1][0]\n",
    "    \n",
    "    if N >= 2:\n",
    "        d[0][1] = d[1][0] + arr[0][1]\n",
    "        d[1][1] = d[0][0] + arr[1][1]\n",
    "\n",
    "    if N >= 3:\n",
    "        for i in range(2, N):\n",
    "            d[0][i] = max(d[1][i-1], d[1][i-2]) + arr[0][i]\n",
    "            d[1][i] = max(d[0][i-1], d[0][i-2]) + arr[1][i]\n",
    "    \n",
    "    return max(d[0][-1], d[1][-1])\n",
    "\n",
    "T = int(input())\n",
    "for t in range(T):\n",
    "    n = int(input())\n",
    "    print(sticker(n))"
   ]
  }
 ],
 "metadata": {
  "kernelspec": {
   "display_name": "Python 3.9.15",
   "language": "python",
   "name": "python3"
  },
  "language_info": {
   "name": "python",
   "version": "3.9.15"
  },
  "orig_nbformat": 4,
  "vscode": {
   "interpreter": {
    "hash": "19cdb573a42401074e38f706383cbfa1833acb696c2188dc3609525a6f268ee1"
   }
  }
 },
 "nbformat": 4,
 "nbformat_minor": 2
}
