{
 "cells": [
  {
   "cell_type": "markdown",
   "metadata": {},
   "source": [
    "# 4. Recursive Algorithms"
   ]
  },
  {
   "cell_type": "markdown",
   "metadata": {},
   "source": [
    "n!"
   ]
  },
  {
   "cell_type": "code",
   "execution_count": 1,
   "metadata": {},
   "outputs": [],
   "source": [
    "def what(n):\n",
    "\tif n<=1:\n",
    "\t\treturn 1\n",
    "\telse:\n",
    "\t\treturn n*what(n-1)"
   ]
  },
  {
   "cell_type": "markdown",
   "metadata": {},
   "source": [
    "Fibonacci sequence"
   ]
  },
  {
   "cell_type": "code",
   "execution_count": 4,
   "metadata": {},
   "outputs": [],
   "source": [
    "# 재귀적 방법\n",
    "def solution(x):\n",
    "    answer = 0\n",
    "    if x<=1:\n",
    "        return x\n",
    "    else:\n",
    "        answer = solution(x-2) + solution(x-1)\n",
    "    return answer\n",
    "\n",
    "# 반복적 방법\n",
    "def solution(n):\n",
    "    if n<=1: return n\n",
    "    else:\n",
    "        i = 2\n",
    "        t0 = 0\n",
    "        t1 = 1\n",
    "        while i <= n:\n",
    "            t0, t1 = t1, t0 + t1\n",
    "        return t1"
   ]
  },
  {
   "cell_type": "markdown",
   "metadata": {},
   "source": [
    "Recursive Binary Search"
   ]
  },
  {
   "cell_type": "code",
   "execution_count": 5,
   "metadata": {},
   "outputs": [],
   "source": [
    "def solution(L, x, l, u):\n",
    "    if l>u:\n",
    "        return -1\n",
    "    mid = (l + u) // 2\n",
    "    if x == L[mid]:\n",
    "        return mid\n",
    "    elif x < L[mid]:\n",
    "        return solution(L, x, l, mid-1)\n",
    "    else:\n",
    "        return solution(L, x, mid+1, u)"
   ]
  }
 ],
 "metadata": {
  "kernelspec": {
   "display_name": "Python 3.9.15 ('yeonii')",
   "language": "python",
   "name": "python3"
  },
  "language_info": {
   "codemirror_mode": {
    "name": "ipython",
    "version": 3
   },
   "file_extension": ".py",
   "mimetype": "text/x-python",
   "name": "python",
   "nbconvert_exporter": "python",
   "pygments_lexer": "ipython3",
   "version": "3.9.15"
  },
  "orig_nbformat": 4,
  "vscode": {
   "interpreter": {
    "hash": "19cdb573a42401074e38f706383cbfa1833acb696c2188dc3609525a6f268ee1"
   }
  }
 },
 "nbformat": 4,
 "nbformat_minor": 2
}
