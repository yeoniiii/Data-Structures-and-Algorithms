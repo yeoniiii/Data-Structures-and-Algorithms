{
 "cells": [
  {
   "cell_type": "markdown",
   "metadata": {},
   "source": [
    "# 3. Sort & Search"
   ]
  },
  {
   "cell_type": "markdown",
   "metadata": {},
   "source": [
    "### Sort 정렬"
   ]
  },
  {
   "cell_type": "markdown",
   "metadata": {},
   "source": [
    "1. `sorted()`\n",
    "    - 내장함수\n",
    "    - 정렬된 새로운 리스트를 얻어냄"
   ]
  },
  {
   "cell_type": "code",
   "execution_count": 1,
   "metadata": {},
   "outputs": [
    {
     "data": {
      "text/plain": [
       "['xyz', 'abcd', 'spam']"
      ]
     },
     "execution_count": 1,
     "metadata": {},
     "output_type": "execute_result"
    }
   ],
   "source": [
    "L = ['abcd', 'xyz', 'spam']\n",
    "sorted(L, key=lambda x: len(x))"
   ]
  },
  {
   "cell_type": "markdown",
   "metadata": {},
   "source": [
    "2. `sort()`\n",
    "    - 리스트의 메서드\n",
    "    - 해당 리스트를 정렬함"
   ]
  },
  {
   "cell_type": "code",
   "execution_count": 2,
   "metadata": {},
   "outputs": [],
   "source": [
    "L = [{'name':'John', 'score':83},\n",
    "\t\t\t{'name':'Paul', 'score':92}]\n",
    "L.sort(key=lambda x: x['name']) # 이름 알파벳순\n",
    "L.sort(key=lambda x: x['score'], reverse=True) # 점수 내림차순"
   ]
  },
  {
   "cell_type": "markdown",
   "metadata": {},
   "source": [
    "### Search 탐색"
   ]
  },
  {
   "cell_type": "markdown",
   "metadata": {},
   "source": [
    "1. 선형 탐색 Linear Search (= 순차 탐색)\n",
    "    - ex. [3, 8, 2, 7, 6, 10, 9] 에서 6을 찾아라 → 순차적으로 훑으면서 찾는 것\n",
    "    - 리스트의 길이에 비례하는 시간 소요 → **O(n)**\n",
    "        - 최악의 경우, 모든 원소를 다 비교해 보아야"
   ]
  },
  {
   "cell_type": "code",
   "execution_count": 3,
   "metadata": {},
   "outputs": [],
   "source": [
    "def linear_search(L, x):\n",
    "\ti = 0\n",
    "\twhile i < len(L) and L[i] != x: \n",
    "\t\t\ti += 1\n",
    "\tif i < len(L): # 원소가 발견되면\n",
    "\t\treturn i\n",
    "\telse:\n",
    "\t\treturn -1"
   ]
  },
  {
   "cell_type": "markdown",
   "metadata": {},
   "source": [
    "2. 이진 탐색 Binary Search\n",
    "    - 탐색하려는 리스트가 이미 정렬되어 있는 경우에만 적용 가능\n",
    "    - 크기 순으로 정렬되어 있다는 성질 이용\n",
    "    - 한 번 비교가 일어날 때마다 리스트 반씩 줄임 (devide & conquer) → O(log n)\n",
    "    - 선형 탐색 소요 시간 > 이진 탐색 소요 시간"
   ]
  },
  {
   "cell_type": "markdown",
   "metadata": {},
   "source": [
    "문제. [1, 3, 7, 7, 12, 15, 17, 30, 32, 62…] 에서 30을 찾아라 → lower, middle, upper 이용해서 풀이"
   ]
  },
  {
   "cell_type": "code",
   "execution_count": 4,
   "metadata": {},
   "outputs": [],
   "source": [
    "def solution(L, x):\n",
    "    answer = -1\n",
    "    lower = 0\n",
    "    upper = len(L) - 1\n",
    "    \n",
    "    while lower <= upper:\n",
    "        middle = (lower+upper) // 2\n",
    "        if L[middle] == x:\n",
    "            answer = middle\n",
    "            break\n",
    "        elif L[middle] < x:\n",
    "            lower = middle + 1\n",
    "        else:\n",
    "            upper = middle - 1\n",
    "    return answer\n",
    "\n",
    "# if x in L을 넣으면 시간 초과!"
   ]
  }
 ],
 "metadata": {
  "kernelspec": {
   "display_name": "Python 3.9.15 ('yeonii')",
   "language": "python",
   "name": "python3"
  },
  "language_info": {
   "codemirror_mode": {
    "name": "ipython",
    "version": 3
   },
   "file_extension": ".py",
   "mimetype": "text/x-python",
   "name": "python",
   "nbconvert_exporter": "python",
   "pygments_lexer": "ipython3",
   "version": "3.9.15"
  },
  "orig_nbformat": 4,
  "vscode": {
   "interpreter": {
    "hash": "19cdb573a42401074e38f706383cbfa1833acb696c2188dc3609525a6f268ee1"
   }
  }
 },
 "nbformat": 4,
 "nbformat_minor": 2
}
